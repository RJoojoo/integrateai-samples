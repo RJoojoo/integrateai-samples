{
 "cells": [
  {
   "cell_type": "markdown",
   "id": "762eb4a4-a329-49d4-b391-dbe15c8da4ec",
   "metadata": {},
   "source": [
    "# PoC Use Case 2\n",
    "## Residential Peril Score lift curve analysis\n",
    "### Powered by integrate.ai"
   ]
  },
  {
   "cell_type": "markdown",
   "id": "f7099eb1-f1e7-4b69-8dff-e1364493b615",
   "metadata": {},
   "source": [
    "# **integrate.ai**\n",
    "integrate.ai's platform, allows its users to collaborate and to perform secure and privacy preserving analytics and machine learning jobs. In this guide, we show case some of the key functionality of integrate.ai's platform to demonstrate\n",
    "\n",
    "1. integrate.ai's solution for Match Rate Analysis, Correlation Analysis, Model Validation, and Exploratory Data Analysis. \n",
    "2. The efficacy of the federated learning platform and the similarity of performance compared to a centralzied solution.\n",
    "3. Ease of use and seamless integration of integrate's solution into any data science working environment.\n",
    "\n",
    "# **Use Case Description**\n",
    "\n",
    "An insurance company is interested in evaluating the effectiveness of a building peril score provided by a data provider in their residential loss cost model. \n",
    "\n",
    "There are two core questions the insurance company's data scientists are interested in answering in evaluating the provider's peril score:\n",
    "\n",
    "1. **Match Rate:** How much data from the data provider's data product is usable in reference to my internal data?\n",
    "2. **Relevance:** How predictive is this data product for loss cost analyses\n",
    "\n",
    "This guide seeks to answer these two questions using integrate.ai's platform, and compare the methodology and the results to the scenario where all the data is centralzied and joined in one database. We will start by demonstrating how the match rate can be calculated using IAI's Private Record Linkage. We will then show how a data scientist can use integrate's solution to perform exploratory data analysis and correlation analysis to create the lift curves and assess the provider model scores "
   ]
  },
  {
   "cell_type": "markdown",
   "id": "4a46834e-f645-45bc-94a5-24866ca1264b",
   "metadata": {},
   "source": [
    "# **Setup and Configuration**\n",
    "\n",
    "If you are on the full simulation PoC package, before running this notebook you should first [install the Integrate.ai components](https://documentation.integrateai.net/#hfl-data-requirements), and complete required setup and configuration for Task Runners. For details, see [Using integrate.ai](https://documentation.integrateai.net/#using-integrate-ai). The notebook is based on two AWS Task Runners simulating the training environment of a **Data Consumer** and **Insurance Carrier Company**, respectively. To set up your Task Runner on Azure refer to https://documentation.integrateai.net/#azure-configuration-for-task-runners\n",
    "For a more realistic simulation, integrate.ai will set up the partner environment for you and the provider datasets will be shared with you in your IAI workspace. \n",
    "\n",
    "If you are on a no installation PoC package, your environment needs to be fully set up by your customer success team. You can check this by looking through the datasets available to you in your IAI workspace. Contact your customer success agent to learn more.\n",
    "\n",
    "The datasets used in the PoCs are either publicly available or synthetic datasets. You must download these datasets for the centralized analyses. Here is the link to the datasets used in this notebook for this use case:\n",
    "\n",
    "s3://downloads.integrateai.net/poc/usecase2/"
   ]
  },
  {
   "cell_type": "markdown",
   "id": "2906117e-244a-456a-9dcd-4423c909ea25",
   "metadata": {},
   "source": [
    "# **Match Rate Analysis**"
   ]
  },
  {
   "cell_type": "markdown",
   "id": "e2ccd854-5954-4ae8-901a-1014710e7049",
   "metadata": {},
   "source": [
    "## **Centralzied**\n",
    "\n",
    "The centralized match rate is created by loading the two datasets into a dataframe, and performing a join and a count on the two datasets."
   ]
  },
  {
   "cell_type": "code",
   "execution_count": 82,
   "id": "87027db4-7f6b-4a9c-b522-153a6c3ce2e4",
   "metadata": {},
   "outputs": [
    {
     "name": "stdout",
     "output_type": "stream",
     "text": [
      "40000\n",
      "10000\n"
     ]
    }
   ],
   "source": [
    "import pandas as pd\n",
    "\n",
    "insurance_train_centralized = pd.read_csv(\"./consumer_train.csv\")\n",
    "insurance_test_centralized = pd.read_csv(\"./consumer_test.csv\")\n",
    "\n",
    "provider_centralized = pd.read_csv(\"./provider.csv\")\n",
    "\n",
    "overlap_train_centralized = pd.merge(insurance_train_centralized, provider_centralized, how='inner', on=['id'] )\n",
    "overlap_test_centralized = pd.merge(insurance_test_centralized, provider_centralized, how='inner', on=['id'] )\n",
    "\n",
    "matchrate_train_centralized =  overlap_train_centralized.shape[0]\n",
    "matchrate_test_centralized =  overlap_test_centralized.shape[0]\n",
    "\n",
    "\n",
    "print(matchrate_train_centralized)\n",
    "print(matchrate_test_centralized)\n"
   ]
  },
  {
   "cell_type": "markdown",
   "id": "05c8334e-54d0-4fb1-9369-27a16a9dee89",
   "metadata": {},
   "source": [
    "## **integrate.ai**\n",
    "\n",
    "integrate.ai's solution calculates the match rate by performing Private Record Linkage (PRL). Overlapping records are determined privately through a PRL session, which combines Private Set Intersection with Private Record Alignment. PRL uses the intersection to create alignment between the different collaborating datasets.\n",
    "\n",
    "PRL sessions allow the integrate.ai platform to perform match rate analysis by counting the overlapping records, conduct safe analytics by performing secure statistical analysis on the overlap, and train models on the overlap of the participating datasets without exposing the overlap.\n"
   ]
  },
  {
   "cell_type": "markdown",
   "id": "385fe5c7-94fe-4865-abe0-c3b13a4f319b",
   "metadata": {
    "jp-MarkdownHeadingCollapsed": true
   },
   "source": [
    "### Set environment variables with your IAI credentials\n",
    "\n",
    "Generate and manage this token in your company's integrate.ai workspace UI."
   ]
  },
  {
   "cell_type": "code",
   "execution_count": 83,
   "id": "a3820478-0eed-4d5b-8331-c0b82dc333d1",
   "metadata": {},
   "outputs": [],
   "source": [
    "from integrate_ai_sdk.api import connect\n",
    "import os\n",
    "import json\n",
    "\n",
    "IAI_TOKEN = \"\"\n",
    "client = connect(token=IAI_TOKEN)"
   ]
  },
  {
   "cell_type": "code",
   "execution_count": 84,
   "id": "0bdfeacd-1f95-4089-8aaa-d5ced6d8039d",
   "metadata": {},
   "outputs": [],
   "source": [
    "import json\n",
    "import pandas as pd\n",
    "import numpy as np\n",
    "\n",
    "pd.options.display.max_columns = 1000\n",
    "pd.options.display.max_rows = 1000"
   ]
  },
  {
   "cell_type": "markdown",
   "id": "3c396aaa-0e6f-42c4-81c9-e8e45dbc4d42",
   "metadata": {},
   "source": [
    "### Set your AWS variables\n",
    "\n",
    "**Important: The task runner expects your data to be in the bucket that was created when the task runner was provisioned.**\n",
    "\n",
    "A data scientist can access the data in two ways in the following session. If the dataset is registered with the Task Runner, it can be specified in the session by the dataset name (`train_dataset_name` and `test_dataset_name`). Otherwise, the dataset path should be provided to identify the data, as in the example below.\n",
    "\n",
    "**Note, the datasets in this notebook are publicly available. The datasets can be registered with your own task runner and fully in your own control, hybrid of your taskrunner and IAI task runners to mimic a real situation, or registered fully with IAI task runners to allow you to move quickly.**"
   ]
  },
  {
   "cell_type": "code",
   "execution_count": 99,
   "id": "07c905fc-5f23-48ea-8824-6cd884370055",
   "metadata": {},
   "outputs": [],
   "source": [
    "# The path to train and test datasets for both parties\n",
    "consumer_train_path = 'consumer_train'\n",
    "consumer_test_path = 'consumer_test'\n",
    "\n",
    "provider_train_path = 'provider'\n",
    "provider_test_path = 'provider'\n",
    "\n",
    "target = 'loss_amount_log'\n",
    "score_of_interest = \"fire\"\n",
    "\n",
    "consumer_features = ['loss_amount', 'policy_type', 'renewed', 'deductible', 'Premium']\n",
    "provider_features = ['total', 'crime', 'fire', 'other', 'sewer', 'water', 'windhail']"
   ]
  },
  {
   "cell_type": "markdown",
   "id": "38388359-ced8-488d-8857-408e68eb1157",
   "metadata": {},
   "source": [
    "The task runners used for this notebook are `supplyaws` and `demandaws`. If you are on the full installation PoC package you need to replace the `demandaws` with your own taskrunner name."
   ]
  },
  {
   "cell_type": "code",
   "execution_count": 86,
   "id": "3d3f37ee-5db0-4feb-b696-6a3682eaa6ec",
   "metadata": {},
   "outputs": [],
   "source": [
    "from integrate_ai_sdk.taskgroup.taskbuilder.integrate_ai import IntegrateAiTaskBuilder\n",
    "from integrate_ai_sdk.taskgroup.base import SessionTaskGroup\n",
    "from integrate_ai_sdk.taskgroup.taskbuilder import taskrunner_context\n",
    "from integrate_ai_sdk.taskgroup.taskbuilder.integrate_ai import IntegrateAiTaskBuilder\n",
    "from integrate_ai_sdk.taskgroup.base import SessionTaskGroup\n",
    "from typing import Iterable, Optional\n",
    "from integrate_ai_sdk.api import Client\n",
    "from integrate_ai_sdk.taskgroup.taskbuilder.taskrunner_context import TaskRunnerContext\n",
    "from integrate_ai_sdk.taskgroup.taskbuilder.taskrunner_task import ClientTask, FLSTask, ClientTaskConfig\n",
    "\n",
    "iai_tb_aws_provider = IntegrateAiTaskBuilder(client=client,\n",
    "                                         task_runner_id=\"supplyaws\")\n",
    "\n",
    "iai_tb_aws_consumer = IntegrateAiTaskBuilder(client=client,\n",
    "                                       task_runner_id=\"demandaws\")"
   ]
  },
  {
   "cell_type": "markdown",
   "id": "21da4750-5366-4b6f-be58-3f639e9f65e0",
   "metadata": {},
   "source": [
    "## Private Record Linkage (PRL)\n",
    "\n",
    "To facilitate match rate analysis, integrate.ai's Private Record Linkage feature privately joins the features of different clients using a common key - often a global index, or a combination of features that can be matched to identify an individual. Here a client means a participating party that provides dataset to the collaboration.\n",
    "\n",
    "**Join key**\n",
    "\n",
    "In this guide notebook, the synthetic data and provider data are linked by a join key (i.e. `oak`), specified as `id_columns` in the data config. For more information on how to configure an PRL session, see the documentation [here](https://documentation.integrateai.net/#prl-session-example)."
   ]
  },
  {
   "cell_type": "code",
   "execution_count": 87,
   "id": "f5e8a2a4-5ab5-4699-b25f-0c151399e897",
   "metadata": {},
   "outputs": [],
   "source": [
    "# Step 1: Specify PRL dataset configuration\n",
    "\n",
    "prl_data_config = {\n",
    "    \"clients\": {\n",
    "        \"consumer_train\": {\n",
    "            \"id_columns\": [\"id\"],\n",
    "            \"backend\": {\"name\": \"dask\", \"n_data_partitions\": 10, \"memory_threshold\":0.4},\n",
    "        },\n",
    "        \"provider\": {\n",
    "            \"id_columns\": [\"id\"],\n",
    "            \"backend\": {\"name\": \"dask\", \"n_data_partitions\": 10, \"memory_threshold\":0.4},\n",
    "        },\n",
    "    },\n",
    "}"
   ]
  },
  {
   "cell_type": "code",
   "execution_count": 88,
   "id": "8bba5d0c-13eb-44ce-a2f7-a991bf7d4416",
   "metadata": {},
   "outputs": [
    {
     "data": {
      "text/plain": [
       "'022bc6a4d3'"
      ]
     },
     "execution_count": 88,
     "metadata": {},
     "output_type": "execute_result"
    }
   ],
   "source": [
    "# Step 2: Create and start PRL session\n",
    "\n",
    "prl_session = client.create_prl_session(\n",
    "    name=\"peril score - PRL\",\n",
    "    description=\"I am running PRL session with synthetic peril score data and the consumer data\",\n",
    "    data_config=prl_data_config\n",
    ").start()\n",
    "\n",
    "prl_session.id #Prints the session ID for reference"
   ]
  },
  {
   "cell_type": "code",
   "execution_count": 89,
   "id": "445d8f6d-0144-4cac-80b3-33c516e3718f",
   "metadata": {},
   "outputs": [],
   "source": [
    "# Step 3: Create a task group with one task for each client joining the session\n",
    "\n",
    "task_group = (\n",
    "    SessionTaskGroup(prl_session)\n",
    "    .add_task(iai_tb_aws_consumer.prl(train_dataset_name=consumer_train_path, test_dataset_name=consumer_test_path, client_name=\"consumer_train\"))\\\n",
    "    .add_task(iai_tb_aws_provider.prl(train_dataset_name=provider_train_path, test_dataset_name=provider_test_path, client_name=\"provider\"))\n",
    ")\n",
    "\n",
    "task_group_context = task_group.start()"
   ]
  },
  {
   "cell_type": "markdown",
   "id": "db0e43e0-b65f-429b-b625-66eea7352330",
   "metadata": {},
   "source": [
    "You can use `task_group_context.contexts.values()` and `task_group_context.monitor_task_logs()` to track and see the taskrunner and orchastration logs. Equivalently, you can see the system logs in the UI under the sessions section."
   ]
  },
  {
   "cell_type": "markdown",
   "id": "f973ea9a-e1f2-43f3-a671-0184b26e2b04",
   "metadata": {},
   "source": [
    "## **Conclusion**\n",
    "\n",
    "You can find the result of the match rate analysis in the PRL session metrics or the summary table below. In these results, the client `consumer` represents the match in the consumer data. You can see how the values of overlap between train and test sets matches those of the centralized analysis."
   ]
  },
  {
   "cell_type": "code",
   "execution_count": 77,
   "id": "1360a4a2-8cdf-492c-867b-b7f47b8ec753",
   "metadata": {},
   "outputs": [
    {
     "data": {
      "text/html": [
       "<div>\n",
       "<style scoped>\n",
       "    .dataframe tbody tr th:only-of-type {\n",
       "        vertical-align: middle;\n",
       "    }\n",
       "\n",
       "    .dataframe tbody tr th {\n",
       "        vertical-align: top;\n",
       "    }\n",
       "\n",
       "    .dataframe thead th {\n",
       "        text-align: right;\n",
       "    }\n",
       "</style>\n",
       "<table border=\"1\" class=\"dataframe\">\n",
       "  <thead>\n",
       "    <tr style=\"text-align: right;\">\n",
       "      <th></th>\n",
       "      <th>n_records</th>\n",
       "      <th>n_overlapped_records</th>\n",
       "      <th>frac_overlapped</th>\n",
       "    </tr>\n",
       "  </thead>\n",
       "  <tbody>\n",
       "    <tr>\n",
       "      <th>train</th>\n",
       "      <td>40000.0</td>\n",
       "      <td>40000.0</td>\n",
       "      <td>1.0</td>\n",
       "    </tr>\n",
       "    <tr>\n",
       "      <th>test</th>\n",
       "      <td>10000.0</td>\n",
       "      <td>10000.0</td>\n",
       "      <td>1.0</td>\n",
       "    </tr>\n",
       "  </tbody>\n",
       "</table>\n",
       "</div>"
      ],
      "text/plain": [
       "       n_records  n_overlapped_records  frac_overlapped\n",
       "train    40000.0               40000.0              1.0\n",
       "test     10000.0               10000.0              1.0"
      ]
     },
     "execution_count": 77,
     "metadata": {},
     "output_type": "execute_result"
    }
   ],
   "source": [
    "metrics = prl_session.metrics().as_dict()\n",
    "summary_table = pd.DataFrame(metrics['client_metrics']['consumer_train']).T\n",
    "summary_table"
   ]
  },
  {
   "cell_type": "code",
   "execution_count": 78,
   "id": "4465c989-4873-4159-88ef-5267b3335f43",
   "metadata": {},
   "outputs": [
    {
     "name": "stdout",
     "output_type": "stream",
     "text": [
      "40000\n",
      "10000\n"
     ]
    }
   ],
   "source": [
    "print(matchrate_train_centralized)\n",
    "print(matchrate_test_centralized)"
   ]
  },
  {
   "cell_type": "markdown",
   "id": "3648200f-5c61-4124-aa71-bfc150146482",
   "metadata": {},
   "source": [
    "# **Correlation Analysis**"
   ]
  },
  {
   "cell_type": "markdown",
   "id": "87e230cc-80ce-4dd3-b897-13171e7652ad",
   "metadata": {},
   "source": [
    "## **Centralzied**\n",
    "\n",
    "To create the lift curve, the provider score is plotted against the outcome of interest, in this case the loss cost."
   ]
  },
  {
   "cell_type": "code",
   "execution_count": 200,
   "id": "7350476a-f4c1-4483-ba31-01b422be3a04",
   "metadata": {},
   "outputs": [
    {
     "data": {
      "text/plain": [
       "<ErrorbarContainer object of 3 artists>"
      ]
     },
     "execution_count": 200,
     "metadata": {},
     "output_type": "execute_result"
    },
    {
     "data": {
      "image/png": "[encoded data removed]",
      "text/plain": [
       "<Figure size 640x480 with 1 Axes>"
      ]
     },
     "metadata": {},
     "output_type": "display_data"
    }
   ],
   "source": [
    "import matplotlib.pyplot as plt\n",
    "\n",
    "\n",
    "overlap_train_centralized[\"target_bin\"] = pd.qcut(overlap_train_centralized[target],q=35,duplicates=\"drop\", labels=False) \n",
    "grouped = overlap_train_centralized[[\"target_bin\",score_of_interest]].groupby([\"target_bin\"])\n",
    "grouped_describe = grouped.describe()\n",
    "\n",
    "plt.errorbar(np.arange(len(grouped_describe)),grouped_describe[\"fire\"][\"mean\"], grouped_describe[\"fire\"][\"std\"], fmt='ob', lw=3)"
   ]
  },
  {
   "cell_type": "markdown",
   "id": "be32ebf3-8501-4046-bef2-afa97fdb94f1",
   "metadata": {},
   "source": [
    "## **integrate.ai**"
   ]
  },
  {
   "cell_type": "code",
   "execution_count": 93,
   "id": "c57a54df-5947-4ad1-a09b-effcd2d6c139",
   "metadata": {},
   "outputs": [],
   "source": [
    "eda_data_config = {\"consumer_train\": [], \"provider\": []}\n",
    "paired_columns = {\"consumer_train\":[target], \"provider\":[score_of_interest]}"
   ]
  },
  {
   "cell_type": "code",
   "execution_count": 94,
   "id": "3c97335c-d573-4a16-9503-5c0e46379e57",
   "metadata": {},
   "outputs": [
    {
     "data": {
      "text/plain": [
       "'eb413c7968'"
      ]
     },
     "execution_count": 94,
     "metadata": {},
     "output_type": "execute_result"
    }
   ],
   "source": [
    "eda_session = client.create_eda_session(\n",
    "    name=\"peril score - EDA intersect\",\n",
    "    description=\"I am running a EDA intersect session\",\n",
    "    data_config=eda_data_config,\n",
    "    eda_mode=\"intersect\",\n",
    "    paired_columns=paired_columns,\n",
    "    hide_intersection=False,\n",
    "    prl_session_id=prl_session.id\n",
    ").start()\n",
    "\n",
    "eda_session.id"
   ]
  },
  {
   "cell_type": "code",
   "execution_count": 95,
   "id": "6c845d4e-a8dc-4526-bf99-396ecf74620e",
   "metadata": {},
   "outputs": [],
   "source": [
    "task_group = (\n",
    "    SessionTaskGroup(eda_session)\n",
    "    .add_task(iai_tb_aws_consumer.eda(dataset_name=consumer_train_path, job_timeout_seconds= 10*60*60))\\\n",
    "    .add_task(iai_tb_aws_provider.eda(dataset_name=provider_train_path, job_timeout_seconds= 10*60*60))\n",
    ")\n",
    "\n",
    "task_group_context = task_group.start()"
   ]
  },
  {
   "cell_type": "code",
   "execution_count": 125,
   "id": "ee507667-f2e9-4e7b-9de0-a529c4760838",
   "metadata": {},
   "outputs": [],
   "source": [
    "results = eda_session.results()"
   ]
  },
  {
   "cell_type": "code",
   "execution_count": 147,
   "id": "4deb5b17-7c26-4f74-a567-c8e23479b928",
   "metadata": {},
   "outputs": [
    {
     "data": {
      "text/plain": [
       "<ErrorbarContainer object of 3 artists>"
      ]
     },
     "execution_count": 147,
     "metadata": {},
     "output_type": "execute_result"
    },
    {
     "data": {
      "image/png": "[encoded data removed]",
      "text/plain": [
       "<Figure size 640x480 with 1 Axes>"
      ]
     },
     "metadata": {},
     "output_type": "display_data"
    }
   ],
   "source": [
    "consumer = results['consumer_train']\n",
    "provider = results['provider']\n",
    "mean_result = results.groupby(consumer[target])[provider[score_of_interest]].mean()\n",
    "std_result = results.groupby(consumer[target])[provider[score_of_interest]].std()\n",
    "plt.errorbar(np.arange(len(mean_result)),mean_result, std_result, fmt='ok', lw=3)\n"
   ]
  },
  {
   "cell_type": "markdown",
   "id": "79cc476a-f4d4-4a46-bb5c-0495f75864bd",
   "metadata": {},
   "source": [
    "## **Conclusion**\n",
    "The two lift curves can be compared using the overlay of their values. As can be seen from the graph, integrate.ai's solution allows data scientists to assess the lift curve."
   ]
  },
  {
   "cell_type": "code",
   "execution_count": 199,
   "id": "6b52bc6f-254d-46ce-a094-27d467deb2b5",
   "metadata": {},
   "outputs": [
    {
     "data": {
      "text/plain": [
       "<ErrorbarContainer object of 3 artists>"
      ]
     },
     "execution_count": 199,
     "metadata": {},
     "output_type": "execute_result"
    },
    {
     "data": {
      "image/png": "[encoded data removed]",
      "text/plain": [
       "<Figure size 640x480 with 1 Axes>"
      ]
     },
     "metadata": {},
     "output_type": "display_data"
    }
   ],
   "source": [
    "plt.errorbar(np.arange(len(grouped_describe)),grouped_describe[\"fire\"][\"mean\"], grouped_describe[\"fire\"][\"std\"], fmt='ob', lw=3)\n",
    "plt.errorbar(np.arange(len(mean_result)),mean_result, std_result, fmt='go--', lw=3)\n"
   ]
  }
 ],
 "metadata": {
  "kernelspec": {
   "display_name": "Python 3 (ipykernel)",
   "language": "python",
   "name": "python3"
  },
  "language_info": {
   "codemirror_mode": {
    "name": "ipython",
    "version": 3
   },
   "file_extension": ".py",
   "mimetype": "text/x-python",
   "name": "python",
   "nbconvert_exporter": "python",
   "pygments_lexer": "ipython3",
   "version": "3.10.14"
  }
 },
 "nbformat": 4,
 "nbformat_minor": 5
}
