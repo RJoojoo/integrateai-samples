{
 "cells": [
  {
   "cell_type": "markdown",
   "id": "5c8e5544-a80e-4e0a-84ec-0a3b32d6e9f7",
   "metadata": {},
   "source": [
    "# PoC Use Case 3\n",
    "## Business Classification Accuracy for Underwriting Model\n",
    "### Powered by integrate.ai\n"
   ]
  },
  {
   "cell_type": "markdown",
   "id": "1087f624-4961-4956-88e1-721c4b3449d1",
   "metadata": {},
   "source": [
    "# **integrate.ai**\n",
    "\n",
    "integrate.ai's platform, allows its users to collaborate and to perform secure and privacy preserving analytics and machine learning jobs. In this guide, we show case some of the key functionality of integrate.ai's platform to demonstrate\n",
    "\n",
    "1. integrate.ai's solution for Match Rate Analysis, Model Performance Analysis, Model Validation, and Feature importance and influence analysis. \n",
    "2. The efficacy of the federated learning platform and the similarity of performance compared to a centralzied solution.\n",
    "3. Ease of use and seamless integration of integrate's solution into any data science working environment.\n",
    "\n",
    "# **Use Case Description**\n",
    "\n",
    "An insurance company is interested in evaluating the correctness of their internal business classification feature against one that is provided by a data provider. The insurance company collects the business classification number in form of NAICs from their customers. The provider assigns this feature to each business based on their social media and google review feed.\n",
    "\n",
    "There are two core questions the insurance company's data scientists are interested in answering in evaluating the provider's peril score:\n",
    "\n",
    "1. **Match Rate:** How much data from the data provider's data product is usable in reference to my internal data?\n",
    "2. **Relevance:** How different and useful is the business classification feature compared to our own business classification feature.\n",
    "\n",
    "This guide seeks to answer these two questions using integrate.ai's platform, and compare the methodology and the results to the scenario where all the data is centralzied and joined in one database. We will start by demonstrating how the match rate can be calculated using IAI's Private Record Linkage. We will then show how a data scientist can use integrate's solution to build models and perform exploratory data analysis to understand the differences in the business classification feature."
   ]
  },
  {
   "cell_type": "markdown",
   "id": "105d5bfa-b6ba-4b57-943c-c58b29cb739a",
   "metadata": {},
   "source": [
    "# **Setup and Configuration**\n",
    "\n",
    "If you are on the full simulation PoC package, before running this notebook you should first [install the Integrate.ai components](https://documentation.integrateai.net/#hfl-data-requirements), and complete required setup and configuration for Task Runners. For details, see [Using integrate.ai](https://documentation.integrateai.net/#using-integrate-ai). The notebook is based on two AWS Task Runners simulating the training environment of a **Data Consumer** and **Insurance Carrier Company**, respectively. To set up your Task Runner on Azure refer to https://documentation.integrateai.net/#azure-configuration-for-task-runners\n",
    "For a more realistic simulation, integrate.ai will set up the partner environment for you and the provider datasets will be shared with you in your IAI workspace. \n",
    "\n",
    "If you are on a no installation PoC package, your environment needs to be fully set up by your customer success team. You can check this by looking through the datasets available to you in your IAI workspace. Contact your customer success agent to learn more.\n",
    "\n",
    "The datasets used in the PoCs are either publicly available or synthetic datasets. You must download these datasets for the centralized analyses. Here are the links to the datasets used in this notebook for this use case:\n",
    "\n",
    "LINK TO PUBLIC S3\n",
    "\n"
   ]
  },
  {
   "cell_type": "markdown",
   "id": "7b6a6a6f-e031-448e-80f8-d818106eb478",
   "metadata": {},
   "source": [
    "# **Match Rate Analysis**"
   ]
  },
  {
   "cell_type": "markdown",
   "id": "7faeed76-bb49-456b-905d-2adef053ec79",
   "metadata": {},
   "source": [
    "## **Centralzied**\n",
    "\n",
    "The centralized match rate is created by loading the two datasets into a dataframe, and performing a join and a count on the two datasets."
   ]
  },
  {
   "cell_type": "code",
   "execution_count": 165,
   "id": "9abc4c89-3a10-4b14-ae8a-3e3d3ebe7bb2",
   "metadata": {},
   "outputs": [
    {
     "name": "stdout",
     "output_type": "stream",
     "text": [
      "40000\n",
      "10000\n"
     ]
    }
   ],
   "source": [
    "import pandas as pd\n",
    "\n",
    "insurance_train_centralized = pd.read_csv(\"./consumer_train.csv\")\n",
    "insurance_test_centralized = pd.read_csv(\"./consumer_test.csv\")\n",
    "\n",
    "provider_centralized = pd.read_csv(\"./provider.csv\")\n",
    "\n",
    "overlap_train_centralized = pd.merge(insurance_train_centralized, provider_centralized, how='inner', on=['id'] )\n",
    "overlap_test_centralized = pd.merge(insurance_test_centralized, provider_centralized, how='inner', on=['id'] )\n",
    "\n",
    "matchrate_train_centralized =  overlap_train_centralized.shape[0]\n",
    "matchrate_test_centralized =  overlap_test_centralized.shape[0]\n",
    "\n",
    "\n",
    "print(matchrate_train_centralized)\n",
    "print(matchrate_test_centralized)"
   ]
  },
  {
   "cell_type": "markdown",
   "id": "d21a119b-f894-49c7-a735-49b021ccacc7",
   "metadata": {},
   "source": [
    "## **integrate.ai**\n",
    "\n",
    "integrate.ai's solution calculates the match rate by performing Private Record Linkage (PRL). Overlapping records are determined privately through a PRL session, which combines Private Set Intersection with Private Record Alignment. PRL uses the intersection to create alignment between the different collaborating datasets.\n",
    "\n",
    "PRL sessions allow the integrate.ai platform to perform match rate analysis by counting the overlapping records, conduct safe analytics by performing secure statistical analysis on the overlap, and train models on the overlap of the participating datasets without exposing the overlap.\n"
   ]
  },
  {
   "cell_type": "markdown",
   "id": "65b83960-209c-467c-b8b7-53bd3c03a84a",
   "metadata": {},
   "source": [
    "### Set environment variables with your IAI credentials\n",
    "\n",
    "Generate and manage this token in your company's integrate.ai workspace UI."
   ]
  },
  {
   "cell_type": "code",
   "execution_count": 83,
   "id": "e577eac1-8eee-4862-b281-d4638c57770f",
   "metadata": {},
   "outputs": [],
   "source": [
    "from integrate_ai_sdk.api import connect\n",
    "import os\n",
    "import json\n",
    "\n",
    "IAI_TOKEN = \"\"\n",
    "client = connect(token=IAI_TOKEN)"
   ]
  },
  {
   "cell_type": "code",
   "execution_count": 84,
   "id": "9bc4e85f-2752-40d1-ae27-a8fb5f07f433",
   "metadata": {},
   "outputs": [],
   "source": [
    "import json\n",
    "import pandas as pd\n",
    "import numpy as np\n",
    "\n",
    "pd.options.display.max_columns = 1000\n",
    "pd.options.display.max_rows = 1000"
   ]
  },
  {
   "cell_type": "markdown",
   "id": "4355ac13-a15c-4be7-a9df-ebbd9b99c653",
   "metadata": {},
   "source": [
    "### Set your AWS variables\n",
    "\n",
    "**Important: The task runner expects your data to be in the bucket that was created when the task runner was provisioned.**\n",
    "\n",
    "A data scientist can access the data in two ways in the following session. If the dataset is registered with the Task Runner, it can be specified in the session by the dataset name (`train_dataset_name` and `test_dataset_name`). Otherwise, the dataset path should be provided to identify the data, as in the example below.\n",
    "\n",
    "**Note, the datasets in this notebook are publicly available. The datasets can be registered with your own task runner and fully in your own control, hybrid of your taskrunner and IAI task runners to mimic a real situation, or registered fully with IAI task runners to allow you to move quickly.**"
   ]
  },
  {
   "cell_type": "code",
   "execution_count": 85,
   "id": "61a975f6-3c82-4ef2-a7b7-b3d19f488dac",
   "metadata": {},
   "outputs": [],
   "source": [
    "# The path to train and test datasets for both parties\n",
    "consumer_train_path = 'consumer_train'\n",
    "consumer_test_path = 'consumer_test'\n",
    "\n",
    "provider_train_path = 'provider'\n",
    "provider_test_path = 'provider'\n",
    "\n",
    "target = 'loss_amount_log'\n"
   ]
  },
  {
   "cell_type": "markdown",
   "id": "d6117c0b-3248-4a0b-b505-ef90862ed2ae",
   "metadata": {},
   "source": [
    "The task runners used for this notebook are `supplyaws` and `demandaws`. If you are on the full installation PoC package you need to replace the `demandaws` with your own taskrunner name."
   ]
  },
  {
   "cell_type": "code",
   "execution_count": 86,
   "id": "80794610-4c0d-41d1-b958-540e9dfe590d",
   "metadata": {},
   "outputs": [],
   "source": [
    "from integrate_ai_sdk.taskgroup.taskbuilder.integrate_ai import IntegrateAiTaskBuilder\n",
    "from integrate_ai_sdk.taskgroup.base import SessionTaskGroup\n",
    "from integrate_ai_sdk.taskgroup.taskbuilder import taskrunner_context\n",
    "from integrate_ai_sdk.taskgroup.taskbuilder.integrate_ai import IntegrateAiTaskBuilder\n",
    "from integrate_ai_sdk.taskgroup.base import SessionTaskGroup\n",
    "from typing import Iterable, Optional\n",
    "from integrate_ai_sdk.api import Client\n",
    "from integrate_ai_sdk.taskgroup.taskbuilder.taskrunner_context import TaskRunnerContext\n",
    "from integrate_ai_sdk.taskgroup.taskbuilder.taskrunner_task import ClientTask, FLSTask, ClientTaskConfig\n",
    "\n",
    "iai_tb_aws_provider = IntegrateAiTaskBuilder(client=client,\n",
    "                                         task_runner_id=\"supplyaws\")\n",
    "\n",
    "iai_tb_aws_consumer = IntegrateAiTaskBuilder(client=client,\n",
    "                                       task_runner_id=\"demandaws\")"
   ]
  },
  {
   "cell_type": "markdown",
   "id": "02b924c7-3b31-4bb7-8e73-b76d0c4122cf",
   "metadata": {},
   "source": [
    "## Private Record Linkage (PRL)\n",
    "\n",
    "To facilitate match rate analysis, integrate.ai's Private Record Linkage feature privately joins the features of different clients using a common key - often a global index, or a combination of features that can be matched to identify an individual. Here a client means a participating party that provides dataset to the collaboration.\n",
    "\n",
    "**Join key**\n",
    "\n",
    "In this guide notebook, the synthetic data and provider data are linked by a join key (i.e. `oak`), specified as `id_columns` in the data config. For more information on how to configure an PRL session, see the documentation [here](https://documentation.integrateai.net/#prl-session-example)."
   ]
  },
  {
   "cell_type": "code",
   "execution_count": 87,
   "id": "9adb63d8-fa3e-45fa-ab1c-7d784bad42ac",
   "metadata": {},
   "outputs": [],
   "source": [
    "# Step 1: Specify PRL dataset configuration\n",
    "\n",
    "prl_data_config = {\n",
    "    \"clients\": {\n",
    "        \"consumer_train\": {\n",
    "            \"id_columns\": [\"id\"],\n",
    "            \"backend\": {\"name\": \"dask\", \"n_data_partitions\": 10, \"memory_threshold\":0.4},\n",
    "        },\n",
    "        \"provider\": {\n",
    "            \"id_columns\": [\"id\"],\n",
    "            \"backend\": {\"name\": \"dask\", \"n_data_partitions\": 10, \"memory_threshold\":0.4},\n",
    "        },\n",
    "    },\n",
    "}"
   ]
  },
  {
   "cell_type": "code",
   "execution_count": 88,
   "id": "05dce4eb-6deb-4623-b2b6-8278c89b7345",
   "metadata": {},
   "outputs": [
    {
     "data": {
      "text/plain": [
       "'ffba8ec286'"
      ]
     },
     "execution_count": 88,
     "metadata": {},
     "output_type": "execute_result"
    }
   ],
   "source": [
    "# Step 2: Create and start PRL session\n",
    "\n",
    "prl_session = client.create_prl_session(\n",
    "    name=\"peril score - PRL\",\n",
    "    description=\"I am running PRL session with synthetic peril score data and the consumer data\",\n",
    "    data_config=prl_data_config\n",
    ").start()\n",
    "\n",
    "prl_session.id #Prints the session ID for reference"
   ]
  },
  {
   "cell_type": "code",
   "execution_count": 89,
   "id": "31d35b9d-fa2e-47af-a990-1bf843bef925",
   "metadata": {},
   "outputs": [],
   "source": [
    "# Step 3: Create a task group with one task for each client joining the session\n",
    "\n",
    "task_group = (\n",
    "    SessionTaskGroup(prl_session)\n",
    "    .add_task(iai_tb_aws_consumer.prl(train_dataset_name=consumer_train_path, test_dataset_name=consumer_test_path, client_name=\"consumer_train\"))\\\n",
    "    .add_task(iai_tb_aws_provider.prl(train_dataset_name=provider_train_path, test_dataset_name=provider_test_path, client_name=\"provider\"))\n",
    ")\n",
    "\n",
    "task_group_context = task_group.start()"
   ]
  },
  {
   "cell_type": "markdown",
   "id": "1b77d35a-a48b-4e45-b657-a9027b83a9b5",
   "metadata": {},
   "source": [
    "You can use `task_group_context.contexts.values()` and `task_group_context.monitor_task_logs()` to track and see the taskrunner and orchastration logs. Equivalently, you can see the system logs in the UI under the sessions section."
   ]
  },
  {
   "cell_type": "markdown",
   "id": "b531d9bd-6a03-4d20-ac27-5b02fc5edfc5",
   "metadata": {},
   "source": [
    "## **Conclusion**\n",
    "\n",
    "You can find the result of the match rate analysis in the PRL session metrics or the summary table below. In these results, the client `consumer` represents the match in the consumer data. You can see how the values of overlap between train and test sets matches those of the centralized analysis."
   ]
  },
  {
   "cell_type": "code",
   "execution_count": 90,
   "id": "6b5f4da7-8ee7-4f68-aa3c-ca2e35d74518",
   "metadata": {},
   "outputs": [
    {
     "data": {
      "text/html": [
       "<div>\n",
       "<style scoped>\n",
       "    .dataframe tbody tr th:only-of-type {\n",
       "        vertical-align: middle;\n",
       "    }\n",
       "\n",
       "    .dataframe tbody tr th {\n",
       "        vertical-align: top;\n",
       "    }\n",
       "\n",
       "    .dataframe thead th {\n",
       "        text-align: right;\n",
       "    }\n",
       "</style>\n",
       "<table border=\"1\" class=\"dataframe\">\n",
       "  <thead>\n",
       "    <tr style=\"text-align: right;\">\n",
       "      <th></th>\n",
       "      <th>n_records</th>\n",
       "      <th>n_overlapped_records</th>\n",
       "      <th>frac_overlapped</th>\n",
       "    </tr>\n",
       "  </thead>\n",
       "  <tbody>\n",
       "    <tr>\n",
       "      <th>train</th>\n",
       "      <td>40000.0</td>\n",
       "      <td>40000.0</td>\n",
       "      <td>1.0</td>\n",
       "    </tr>\n",
       "    <tr>\n",
       "      <th>test</th>\n",
       "      <td>10000.0</td>\n",
       "      <td>10000.0</td>\n",
       "      <td>1.0</td>\n",
       "    </tr>\n",
       "  </tbody>\n",
       "</table>\n",
       "</div>"
      ],
      "text/plain": [
       "       n_records  n_overlapped_records  frac_overlapped\n",
       "train    40000.0               40000.0              1.0\n",
       "test     10000.0               10000.0              1.0"
      ]
     },
     "execution_count": 90,
     "metadata": {},
     "output_type": "execute_result"
    }
   ],
   "source": [
    "metrics = prl_session.metrics().as_dict()\n",
    "summary_table = pd.DataFrame(metrics['client_metrics']['consumer_train']).T\n",
    "summary_table"
   ]
  },
  {
   "cell_type": "code",
   "execution_count": 91,
   "id": "754f98e7-6c40-4b03-a152-f72e6f4fa4f5",
   "metadata": {},
   "outputs": [
    {
     "name": "stdout",
     "output_type": "stream",
     "text": [
      "40000\n",
      "10000\n"
     ]
    }
   ],
   "source": [
    "print(matchrate_train_centralized)\n",
    "print(matchrate_test_centralized)"
   ]
  },
  {
   "cell_type": "markdown",
   "id": "003769cd-93f6-4ad6-aa37-7faab73f7dfc",
   "metadata": {},
   "source": [
    "## **Common Feature Analysis**\n",
    "In order to understand the value of the NAICs, we will do three Analysis\n",
    "1. We will perform exploratory analysis on top of the NAICs columns to understand the differences between the two features.\n",
    "2. We will perform exploratory analysis on top of the NAICs columns for the records that differ on their NAICs.\n",
    "3. We will train one model with the consumer's NAICs only. We will then train another model, omitting the NAICs in the consumer data and only including them in the provider data. We will then assess model performance and feature importance.\n"
   ]
  },
  {
   "cell_type": "markdown",
   "id": "326da02b-ffa3-470c-a7d7-2337e4a236e3",
   "metadata": {},
   "source": [
    "## **Exploratory Data Analysis**\n",
    "\n"
   ]
  },
  {
   "cell_type": "markdown",
   "id": "dddd8b73-0eb9-455d-8e7e-a302f51a3848",
   "metadata": {},
   "source": [
    "## **Centralized**"
   ]
  },
  {
   "cell_type": "markdown",
   "id": "863bc6dc-116a-4f29-be6b-47f408dbcbfd",
   "metadata": {},
   "source": [
    "We can get an overview of the NAICs histogram in both datasets."
   ]
  },
  {
   "cell_type": "code",
   "execution_count": 15,
   "id": "9b4c3f61-d3e4-47f3-b169-fa346d4b9340",
   "metadata": {},
   "outputs": [
    {
     "data": {
      "text/plain": [
       "<Axes: >"
      ]
     },
     "execution_count": 15,
     "metadata": {},
     "output_type": "execute_result"
    },
    {
     "data": {
      "image/png": "[encoded data removed]",
      "text/plain": [
       "<Figure size 640x480 with 1 Axes>"
      ]
     },
     "metadata": {},
     "output_type": "display_data"
    }
   ],
   "source": [
    "overlap_train_centralized[\"naics_consumer\"].hist()\n",
    "overlap_train_centralized[\"naics\"].hist()\n"
   ]
  },
  {
   "cell_type": "code",
   "execution_count": null,
   "id": "f7cd8db9-260b-466a-99f7-35286a909857",
   "metadata": {},
   "outputs": [],
   "source": [
    "import matplotlib.pyplot as plt\n",
    "fig, ax = plt.subplots()\n",
    "\n",
    "heigth_centralized, bins_centralized = np.histogram(overlap_train_centralized[\"naics_consumer\"])\n",
    "height_fed, bins_fed = provider_eda[\"other\"].counts, provider_eda[\"total\"].bins\n",
    "width = (bins_centralized[1] - bins_centralized[0])/3\n",
    "\n",
    "ax.bar(bins_centralized[:-1], heigth_centralized, width=width, facecolor='cornflowerblue')\n",
    "ax.bar(bins_fed[:-1]+width, height_fed, width=width, facecolor='seagreen')"
   ]
  },
  {
   "cell_type": "code",
   "execution_count": 79,
   "id": "4530b339-704b-49c7-8bd8-f4da70141270",
   "metadata": {},
   "outputs": [
    {
     "data": {
      "text/plain": [
       "<Axes: >"
      ]
     },
     "execution_count": 79,
     "metadata": {},
     "output_type": "execute_result"
    },
    {
     "data": {
      "image/png": "[encoded data removed]",
      "text/plain": [
       "<Figure size 640x480 with 1 Axes>"
      ]
     },
     "metadata": {},
     "output_type": "display_data"
    }
   ],
   "source": [
    "overlap_train_centralized[\"delta_naics\"] = overlap_train_centralized.apply(lambda x: 0 if x[\"naics_consumer\"]!=x[\"naics\"] else 1, axis=1)\n",
    "differing_naics = overlap_train_centralized[overlap_train_centralized[\"delta_naics\"] == 1]\n",
    "differing_naics[\"naics_consumer\"].hist(color=\"blue\")\n",
    "differing_naics[\"naics\"].hist(color=\"orange\")\n"
   ]
  },
  {
   "cell_type": "code",
   "execution_count": 78,
   "id": "cb5927ad-d39a-493b-b138-0ddb6fce522a",
   "metadata": {
    "scrolled": true
   },
   "outputs": [
    {
     "data": {
      "text/plain": [
       "<Axes: xlabel='naics_consumer'>"
      ]
     },
     "execution_count": 78,
     "metadata": {},
     "output_type": "execute_result"
    },
    {
     "data": {
      "image/png": "[encoded data removed]",
      "text/plain": [
       "<Figure size 640x480 with 1 Axes>"
      ]
     },
     "metadata": {},
     "output_type": "display_data"
    }
   ],
   "source": [
    "overlap_train_centralized[[\"naics\",\"naics_consumer\"]].groupby([\"naics\",\"naics_consumer\"])[\"naics\"].count().unstack([\"naics\"]).plot.bar()\n"
   ]
  },
  {
   "cell_type": "markdown",
   "id": "039f22a6-fdfb-4f57-8b26-8eb173b61d9b",
   "metadata": {},
   "source": [
    "## **integrateai**"
   ]
  },
  {
   "cell_type": "code",
   "execution_count": 100,
   "id": "b04dc67b-694b-4b74-97b2-34b92e9e64f3",
   "metadata": {},
   "outputs": [],
   "source": [
    "eda_data_config = {\"consumer_train\": [], \"provider\": []}\n",
    "paired_columns = {\"consumer_train\":[\"naics_consumer\"], \"provider\":[\"naics\"]}"
   ]
  },
  {
   "cell_type": "code",
   "execution_count": 101,
   "id": "f8307498-9a68-41e7-bbcc-df0e751b067a",
   "metadata": {},
   "outputs": [
    {
     "data": {
      "text/plain": [
       "'3eeebd9687'"
      ]
     },
     "execution_count": 101,
     "metadata": {},
     "output_type": "execute_result"
    }
   ],
   "source": [
    "eda_session = client.create_eda_session(\n",
    "    name=\"peril score - EDA intersect\",\n",
    "    description=\"I am running a EDA intersect session\",\n",
    "    data_config=eda_data_config,\n",
    "    eda_mode=\"intersect\",\n",
    "    paired_columns=paired_columns,\n",
    "    hide_intersection=False,\n",
    "    prl_session_id=prl_session.id\n",
    ").start()\n",
    "\n",
    "eda_session.id"
   ]
  },
  {
   "cell_type": "code",
   "execution_count": 102,
   "id": "a2566047-473f-421f-81b8-4cb59a503def",
   "metadata": {},
   "outputs": [],
   "source": [
    "task_group = (\n",
    "    SessionTaskGroup(eda_session)\n",
    "    .add_task(iai_tb_aws_consumer.eda(dataset_name=consumer_train_path, job_timeout_seconds= 10*60*60))\\\n",
    "    .add_task(iai_tb_aws_provider.eda(dataset_name=provider_train_path, job_timeout_seconds= 10*60*60))\n",
    ")\n",
    "\n",
    "task_group_context = task_group.start()"
   ]
  },
  {
   "cell_type": "code",
   "execution_count": 103,
   "id": "f795c338-bf44-4526-a68c-a006f6776401",
   "metadata": {},
   "outputs": [],
   "source": [
    "results = eda_session.results()"
   ]
  },
  {
   "cell_type": "code",
   "execution_count": 158,
   "id": "076147c6-328c-427c-8a90-179a3722f26c",
   "metadata": {},
   "outputs": [],
   "source": [
    "results_hist = results.hist2ds[frozenset({'consumer_train', 'provider'})][frozenset({'provider@naics', 'consumer_train@naics_consumer'})]\n",
    "\n",
    "row_number = 0\n",
    "results_pd = pd.DataFrame(columns=('naics_consumer', 'naics', 'count'))\n",
    "\n",
    "for naics_consumer in np.arange(len(results_hist[\"x_edges\"])-1):\n",
    "    for naics in np.arange(len(results_hist[\"y_edges\"])-1):\n",
    "        results_pd.loc[row_number] = [results_hist[\"x_edges\"][naics_consumer],\n",
    "                                      results_hist[\"y_edges\"][naics],\n",
    "                                      results_hist[\"counts\"][naics_consumer][naics]]\n",
    "        row_number+=1\n"
   ]
  },
  {
   "cell_type": "markdown",
   "id": "7676e2af-46a6-40b2-b00d-9e2023435952",
   "metadata": {},
   "source": [
    "## **Conclusion**\n",
    "\n",
    "We can now compare how the NAICS are distributed across the two datasets. We can compare how the centralized on compares to the federated restults."
   ]
  },
  {
   "cell_type": "code",
   "execution_count": 161,
   "id": "b3ad9925-c65c-4e8e-bc5f-9d15fa407477",
   "metadata": {},
   "outputs": [
    {
     "data": {
      "text/plain": [
       "<Axes: xlabel='naics_consumer'>"
      ]
     },
     "execution_count": 161,
     "metadata": {},
     "output_type": "execute_result"
    },
    {
     "data": {
      "image/png": "[encoded data removed]",
      "text/plain": [
       "<Figure size 640x480 with 1 Axes>"
      ]
     },
     "metadata": {},
     "output_type": "display_data"
    },
    {
     "data": {
      "image/png": "[encoded data removed]",
      "text/plain": [
       "<Figure size 640x480 with 1 Axes>"
      ]
     },
     "metadata": {},
     "output_type": "display_data"
    }
   ],
   "source": [
    "results_pd.groupby([\"naics\",\"naics_consumer\"]).sum().unstack(\"naics\").plot.bar(subplots=False)\n",
    "overlap_train_centralized[[\"naics\",\"naics_consumer\"]].groupby([\"naics\",\"naics_consumer\"])[\"naics\"].count().unstack([\"naics\"]).plot.bar()\n"
   ]
  },
  {
   "cell_type": "markdown",
   "id": "99290919-323e-44c0-9ff9-1048cef70c6c",
   "metadata": {},
   "source": [
    "## **Model Performance**"
   ]
  },
  {
   "cell_type": "markdown",
   "id": "5a953d63-cc6e-4011-8066-4c0e3ff3411e",
   "metadata": {},
   "source": [
    "We will train two models, one with NAICs only in the provider data and the other with NAICs only in the consumer data. If the provider data is helpful we should see a performance improvement on the provider naics model compared to the consumer naics model."
   ]
  },
  {
   "cell_type": "code",
   "execution_count": 176,
   "id": "402b541a-6d66-4fd7-989d-a2d90882747c",
   "metadata": {},
   "outputs": [],
   "source": [
    "provider_features_base = []\n",
    "\n",
    "consumer_features_base = ['policy_type', 'renewed', 'deductible', 'Premium',\n",
    "                         'naics_consumer_1','naics_consumer_2',\n",
    "                          'naics_consumer_3', 'naics_consumer_4',\n",
    "                          'naics_consumer_5', 'naics_consumer_6', 'naics_consumer_7',\n",
    "                          'naics_consumer_8', 'naics_consumer_9', 'naics_consumer_10']\n",
    "\n",
    "\n",
    "provider_features_challenger = ['naics_1', 'naics_2',\n",
    "       'naics_3', 'naics_4', 'naics_5', 'naics_6', 'naics_7', 'naics_8',\n",
    "       'naics_9', 'naics_10']\n",
    "consumer_features_challenger = ['policy_type', 'renewed', 'deductible', 'Premium']\n",
    "\n",
    "target = \"loss_amount_log\""
   ]
  },
  {
   "cell_type": "markdown",
   "id": "3ddb12ec-1b6a-45de-9ee4-9b6abc50fb57",
   "metadata": {},
   "source": [
    "## Centralized\n"
   ]
  },
  {
   "cell_type": "markdown",
   "id": "a591dc57-3ef7-47af-bc34-1849f700262a",
   "metadata": {},
   "source": [
    "### **Base Model**"
   ]
  },
  {
   "cell_type": "code",
   "execution_count": 177,
   "id": "c6076ca4-4dd2-40b9-893c-25842ae4aecf",
   "metadata": {},
   "outputs": [],
   "source": [
    "X_train_base = insurance_train_centralized[consumer_features_base]\n",
    "y_train_base = insurance_train_centralized[target]\n",
    "\n",
    "X_test_base = insurance_test_centralized[consumer_features_base]\n",
    "y_test_base = insurance_test_centralized[target]"
   ]
  },
  {
   "cell_type": "code",
   "execution_count": 190,
   "id": "ce70b266-d121-4fae-84ea-a2df14670bd6",
   "metadata": {},
   "outputs": [
    {
     "name": "stdout",
     "output_type": "stream",
     "text": [
      "Number of iterations = 9\n"
     ]
    },
    {
     "data": {
      "text/plain": [
       "0.08605175494044814"
      ]
     },
     "execution_count": 190,
     "metadata": {},
     "output_type": "execute_result"
    }
   ],
   "source": [
    "from sklearn.neural_network import MLPRegressor\n",
    "from sklearn.ensemble import GradientBoostingRegressor\n",
    "from sklearn.linear_model import SGDRegressor\n",
    "\n",
    "# run this part if you want to use generalized linear model as your model type\n",
    "baseline = SGDRegressor(max_iter=100, learning_rate='constant', eta0=0.0002, random_state=23)\n",
    "\n",
    "baseline.fit(X_train_base, y_train_base)\n",
    "\n",
    "# Print the number of iterations\n",
    "print('Number of iterations =', baseline.n_iter_)\n",
    "\n",
    "y_pred_base = baseline.predict(X_test_base)\n",
    "\n",
    "from sklearn.metrics import r2_score\n",
    "\n",
    "r2_base = r2_score(y_test_base, y_pred_base)\n",
    "r2_base"
   ]
  },
  {
   "cell_type": "markdown",
   "id": "147fa4f4-d8b8-4f46-ac81-014a9d452c95",
   "metadata": {},
   "source": [
    "### **Challenger Model**"
   ]
  },
  {
   "cell_type": "code",
   "execution_count": 194,
   "id": "1e915139-8ccd-41e5-ad9b-14feae91454b",
   "metadata": {},
   "outputs": [],
   "source": [
    "X_train_challenger = overlap_train_centralized[consumer_features_challenger+provider_features_challenger]\n",
    "y_train_challenger = overlap_train_centralized[target]\n",
    "\n",
    "X_test_challenger = overlap_test_centralized[consumer_features_challenger+provider_features_challenger]\n",
    "y_test_challenger = overlap_test_centralized[target]"
   ]
  },
  {
   "cell_type": "code",
   "execution_count": 195,
   "id": "a4b4bd99-5c3d-4c39-955f-5d327745c519",
   "metadata": {},
   "outputs": [
    {
     "name": "stdout",
     "output_type": "stream",
     "text": [
      "Number of iterations = 9\n"
     ]
    },
    {
     "data": {
      "text/plain": [
       "0.1074436165443865"
      ]
     },
     "execution_count": 195,
     "metadata": {},
     "output_type": "execute_result"
    }
   ],
   "source": [
    "challenger = SGDRegressor(max_iter=100, learning_rate='constant', eta0=0.0002, random_state=23)\n",
    "\n",
    "challenger.fit(X_train_challenger, y_train_challenger)\n",
    "\n",
    "# Print the number of iterations\n",
    "print('Number of iterations =', baseline.n_iter_)\n",
    "\n",
    "y_pred_challenger = challenger.predict(X_test_challenger)\n",
    "\n",
    "\n",
    "r2_challenger = r2_score(y_test_challenger, y_pred_challenger)\n",
    "r2_challenger"
   ]
  },
  {
   "cell_type": "markdown",
   "id": "778b716f-3882-4f5d-9bbc-8d1d63523cfd",
   "metadata": {},
   "source": [
    "## integrateai"
   ]
  },
  {
   "cell_type": "markdown",
   "id": "a90ffc7d-f72e-46c1-a455-7726a2d09685",
   "metadata": {},
   "source": [
    "### **Challenger Model**"
   ]
  },
  {
   "cell_type": "code",
   "execution_count": 187,
   "id": "a0ffaaa1-83cc-4325-bdae-4603f89cef55",
   "metadata": {},
   "outputs": [],
   "source": [
    "model_config = {\n",
    "     \"strategy\": {\"name\": \"VflGlm\", \"params\": {}},\n",
    "     \"model\": {\n",
    "         \"provider\": {\"params\": {\"input_size\": len(provider_features_challenger), \"output_activation\": None}},\n",
    "         \"consumer_train\": {\"params\": {\"input_size\": len(consumer_features_challenger), \"output_activation\": None}},\n",
    "     },\n",
    "     \"ml_task\": {\n",
    "         \"type\": \"normal\",\n",
    "         \"params\": {},\n",
    "     },\n",
    "     \"optimizer\": {\"name\": \"SGD\", \"params\": {\"learning_rate\": 0.1, \"momentum\": 0.0}},\n",
    "     \"feature_importance_score\": {\"enable\": True, \"params\": {\"max_evals\": 200, \"subsample\":0.5, \"random_seed\": 23}},\n",
    "     \"seed\": 23,  # for reproducibility\n",
    " }\n",
    "data_config = {\n",
    "        \"provider\": {\n",
    "            \"label_client\": False,\n",
    "            \"predictors\": provider_features_challenger,\n",
    "            \"target\": None,\n",
    "        },\n",
    "        \"consumer_train\": {\n",
    "            \"label_client\": True,\n",
    "            \"predictors\": consumer_features_challenger,\n",
    "            \"target\": target,\n",
    "        },\n",
    "    }\n",
    "\n",
    "consumer_storage_path = 's3://demand-demandaws.integrate.ai/model'\n",
    "provider_storage_path = 's3://supply-supplyaws.integrate.ai/model'"
   ]
  },
  {
   "cell_type": "code",
   "execution_count": 188,
   "id": "3d40a7ec-d1ec-4688-85ba-a2009b332bc7",
   "metadata": {},
   "outputs": [],
   "source": [
    "fl_train_session = client.create_vfl_session(\n",
    "    name=\"peril score - VFL model Train\",\n",
    "    description=\"I am train a federated model with peril score and the consumer data\",\n",
    "    prl_session_id=prl_session.id,\n",
    "    vfl_mode='train',\n",
    "    min_num_clients=2,\n",
    "    num_rounds=100,\n",
    "    package_name=\"iai_glm\", \n",
    "    data_config=data_config,\n",
    "    model_config=model_config\n",
    ").start()"
   ]
  },
  {
   "cell_type": "code",
   "execution_count": 189,
   "id": "02a58a65-2c0c-439d-95b8-8cf8488287fd",
   "metadata": {},
   "outputs": [],
   "source": [
    "vfl_task_group_context = (SessionTaskGroup(fl_train_session)\\\n",
    "    .add_task(iai_tb_aws_consumer.vfl_train(train_dataset_name=consumer_train_path,\n",
    "                                    test_dataset_name=consumer_test_path,\n",
    "                                    client_name=\"consumer_train\",\n",
    "                                    batch_size=4096,\n",
    "                                    storage_path=consumer_storage_path,\n",
    "                                    memory= str(32 * 1024),\n",
    "                                    job_timeout_seconds= 10*60*60))\\\n",
    "    .add_task(iai_tb_aws_provider.vfl_train(train_dataset_name=provider_train_path,\n",
    "                                    test_dataset_name=provider_test_path,\n",
    "                                    client_name=\"provider\",\n",
    "                                    batch_size=4096,\n",
    "                                    storage_path=provider_storage_path,\n",
    "                                    memory= str(32 * 1024),\n",
    "                                    job_timeout_seconds= 10*60*60))\\\n",
    "    .start())"
   ]
  },
  {
   "cell_type": "code",
   "execution_count": 198,
   "id": "da18c644-2a55-49a0-a3f5-a3765e79d873",
   "metadata": {},
   "outputs": [],
   "source": [
    "fl_metrics = fl_train_session.metrics()\n",
    "r2_fed = list(fl_metrics.client_metrics[-1].values())[0][\"test_r2\"]\n"
   ]
  },
  {
   "cell_type": "markdown",
   "id": "042ae5ed-74b1-4fdc-83fa-2cd77d0eafbb",
   "metadata": {},
   "source": [
    "## **Conclusions**\n",
    "Here is the comparison between the $R2$ score of the differnt models. This analysis shows that the NAICs in the provider data are different from the NAICs in the consumer data and "
   ]
  },
  {
   "cell_type": "code",
   "execution_count": 199,
   "id": "db9d44c9-475a-4c94-ad28-616f98965c2e",
   "metadata": {},
   "outputs": [
    {
     "data": {
      "text/plain": [
       "<Axes: >"
      ]
     },
     "execution_count": 199,
     "metadata": {},
     "output_type": "execute_result"
    },
    {
     "data": {
      "image/png": "[encoded data removed]",
      "text/plain": [
       "<Figure size 640x480 with 1 Axes>"
      ]
     },
     "metadata": {},
     "output_type": "display_data"
    }
   ],
   "source": [
    "results = dict(baseline_model_centralized=r2_base, challenger_model_centralized=r2_challenger, challenger_model_federated=r2_fed)\n",
    "results_df = pd.DataFrame(results,index=[0])\n",
    "results_df.plot.bar()"
   ]
  },
  {
   "cell_type": "code",
   "execution_count": null,
   "id": "d65e767d-be97-4d8b-ae9e-5808ac301336",
   "metadata": {},
   "outputs": [],
   "source": []
  }
 ],
 "metadata": {
  "kernelspec": {
   "display_name": "Python 3 (ipykernel)",
   "language": "python",
   "name": "python3"
  },
  "language_info": {
   "codemirror_mode": {
    "name": "ipython",
    "version": 3
   },
   "file_extension": ".py",
   "mimetype": "text/x-python",
   "name": "python",
   "nbconvert_exporter": "python",
   "pygments_lexer": "ipython3",
   "version": "3.10.14"
  }
 },
 "nbformat": 4,
 "nbformat_minor": 5
}
